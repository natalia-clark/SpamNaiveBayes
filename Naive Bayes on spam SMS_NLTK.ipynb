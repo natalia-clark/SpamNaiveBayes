{
 "cells": [
  {
   "cell_type": "markdown",
   "id": "d56f3b7e",
   "metadata": {},
   "source": [
    "# Naive Bayes for text classification"
   ]
  },
  {
   "cell_type": "markdown",
   "id": "09cc3bd9-8546-4a6c-b4fe-92f5d7f89eda",
   "metadata": {},
   "source": [
    "## Exercise 2"
   ]
  },
  {
   "cell_type": "markdown",
   "id": "316d1a15-631c-48f0-ad6c-dc1af8c32e83",
   "metadata": {},
   "source": [
    "Here we are going to use the Naive Bayes Multinomial model library to fit a model"
   ]
  },
  {
   "cell_type": "markdown",
   "id": "a3d0165e",
   "metadata": {},
   "source": [
    "### Read data"
   ]
  },
  {
   "cell_type": "markdown",
   "id": "d72ff20d-79c3-491c-aa81-5fcb9b759f82",
   "metadata": {},
   "source": [
    "We are retrieving a list of approx 5000 spam and non-spam emails (ham)"
   ]
  },
  {
   "cell_type": "code",
   "execution_count": 2,
   "id": "51adefc0",
   "metadata": {},
   "outputs": [
    {
     "data": {
      "text/html": [
       "<div>\n",
       "<style scoped>\n",
       "    .dataframe tbody tr th:only-of-type {\n",
       "        vertical-align: middle;\n",
       "    }\n",
       "\n",
       "    .dataframe tbody tr th {\n",
       "        vertical-align: top;\n",
       "    }\n",
       "\n",
       "    .dataframe thead th {\n",
       "        text-align: right;\n",
       "    }\n",
       "</style>\n",
       "<table border=\"1\" class=\"dataframe\">\n",
       "  <thead>\n",
       "    <tr style=\"text-align: right;\">\n",
       "      <th></th>\n",
       "      <th>type</th>\n",
       "      <th>message</th>\n",
       "    </tr>\n",
       "  </thead>\n",
       "  <tbody>\n",
       "    <tr>\n",
       "      <th>0</th>\n",
       "      <td>ham</td>\n",
       "      <td>Ok lar... Joking wif u oni...</td>\n",
       "    </tr>\n",
       "    <tr>\n",
       "      <th>1</th>\n",
       "      <td>spam</td>\n",
       "      <td>Free entry in 2 a wkly comp to win FA Cup fina...</td>\n",
       "    </tr>\n",
       "    <tr>\n",
       "      <th>2</th>\n",
       "      <td>ham</td>\n",
       "      <td>U dun say so early hor... U c already then say...</td>\n",
       "    </tr>\n",
       "    <tr>\n",
       "      <th>3</th>\n",
       "      <td>ham</td>\n",
       "      <td>Nah I don't think he goes to usf, he lives aro...</td>\n",
       "    </tr>\n",
       "    <tr>\n",
       "      <th>4</th>\n",
       "      <td>spam</td>\n",
       "      <td>FreeMsg Hey there darling it's been 3 week's n...</td>\n",
       "    </tr>\n",
       "    <tr>\n",
       "      <th>...</th>\n",
       "      <td>...</td>\n",
       "      <td>...</td>\n",
       "    </tr>\n",
       "    <tr>\n",
       "      <th>5566</th>\n",
       "      <td>spam</td>\n",
       "      <td>This is the 2nd time we have tried 2 contact u...</td>\n",
       "    </tr>\n",
       "    <tr>\n",
       "      <th>5567</th>\n",
       "      <td>ham</td>\n",
       "      <td>Will ü b going to esplanade fr home?</td>\n",
       "    </tr>\n",
       "    <tr>\n",
       "      <th>5568</th>\n",
       "      <td>ham</td>\n",
       "      <td>Pity, * was in mood for that. So...any other s...</td>\n",
       "    </tr>\n",
       "    <tr>\n",
       "      <th>5569</th>\n",
       "      <td>ham</td>\n",
       "      <td>The guy did some bitching but I acted like i'd...</td>\n",
       "    </tr>\n",
       "    <tr>\n",
       "      <th>5570</th>\n",
       "      <td>ham</td>\n",
       "      <td>Rofl. Its true to its name</td>\n",
       "    </tr>\n",
       "  </tbody>\n",
       "</table>\n",
       "<p>5571 rows × 2 columns</p>\n",
       "</div>"
      ],
      "text/plain": [
       "      type                                            message\n",
       "0      ham                      Ok lar... Joking wif u oni...\n",
       "1     spam  Free entry in 2 a wkly comp to win FA Cup fina...\n",
       "2      ham  U dun say so early hor... U c already then say...\n",
       "3      ham  Nah I don't think he goes to usf, he lives aro...\n",
       "4     spam  FreeMsg Hey there darling it's been 3 week's n...\n",
       "...    ...                                                ...\n",
       "5566  spam  This is the 2nd time we have tried 2 contact u...\n",
       "5567   ham               Will ü b going to esplanade fr home?\n",
       "5568   ham  Pity, * was in mood for that. So...any other s...\n",
       "5569   ham  The guy did some bitching but I acted like i'd...\n",
       "5570   ham                         Rofl. Its true to its name\n",
       "\n",
       "[5571 rows x 2 columns]"
      ]
     },
     "execution_count": 2,
     "metadata": {},
     "output_type": "execute_result"
    }
   ],
   "source": [
    "#! pip install requests\n",
    "import requests \n",
    "import zipfile\n",
    "import pandas as pd\n",
    "\n",
    "url = 'https://archive.ics.uci.edu/ml/machine-learning-databases/00228/smsspamcollection.zip'\n",
    "data_file = 'SMSSpamCollection'\n",
    "\n",
    "# Make request\n",
    "resp = requests.get(url)\n",
    "\n",
    "# Get filename\n",
    "filename = url.split('/')[-1]\n",
    "\n",
    "# Download zipfile\n",
    "with open(filename, 'wb') as f:\n",
    "  f.write(resp.content)\n",
    "\n",
    "# Extract Zip\n",
    "with zipfile.ZipFile(filename, 'r') as zip:\n",
    "  zip.extractall('')\n",
    "\n",
    "# Read Dataset\n",
    "data = pd.read_table(data_file, \n",
    "                     header = 0,\n",
    "                     names = ['type', 'message']\n",
    "                     )\n",
    "\n",
    "# Show dataset\n",
    "data"
   ]
  },
  {
   "cell_type": "markdown",
   "id": "6e930345",
   "metadata": {},
   "source": [
    "Install everything necessary: Natural Language Toolkit and the needed components"
   ]
  },
  {
   "cell_type": "code",
   "execution_count": 3,
   "id": "c46e7d4b",
   "metadata": {},
   "outputs": [
    {
     "name": "stderr",
     "output_type": "stream",
     "text": [
      "[nltk_data] Downloading package punkt to\n",
      "[nltk_data]     /Users/nataliaclark/nltk_data...\n",
      "[nltk_data]   Package punkt is already up-to-date!\n",
      "[nltk_data] Downloading package stopwords to\n",
      "[nltk_data]     /Users/nataliaclark/nltk_data...\n",
      "[nltk_data]   Package stopwords is already up-to-date!\n"
     ]
    }
   ],
   "source": [
    "# NLTK: Natural Language Toolkit\n",
    "#!pip install nltk\n",
    "import nltk\n",
    "nltk.download('punkt')\n",
    "nltk.download('stopwords')\n",
    "from nltk.stem.porter import *\n",
    "from nltk.tokenize import RegexpTokenizer"
   ]
  },
  {
   "cell_type": "markdown",
   "id": "84c8d218",
   "metadata": {},
   "source": [
    "## 1st step: Tokenization."
   ]
  },
  {
   "cell_type": "markdown",
   "id": "7bbf3fc8-fcc0-4e82-acae-708e7eee4ed1",
   "metadata": {},
   "source": [
    "It consists of separating the messages into words in order to be able to treat each. <BR>\n",
    "We are doing it removing punctuation at the same time (thanks to the RegexpTokenizer function)"
   ]
  },
  {
   "cell_type": "code",
   "execution_count": 4,
   "id": "a0ec412c",
   "metadata": {},
   "outputs": [
    {
     "data": {
      "text/html": [
       "<div>\n",
       "<style scoped>\n",
       "    .dataframe tbody tr th:only-of-type {\n",
       "        vertical-align: middle;\n",
       "    }\n",
       "\n",
       "    .dataframe tbody tr th {\n",
       "        vertical-align: top;\n",
       "    }\n",
       "\n",
       "    .dataframe thead th {\n",
       "        text-align: right;\n",
       "    }\n",
       "</style>\n",
       "<table border=\"1\" class=\"dataframe\">\n",
       "  <thead>\n",
       "    <tr style=\"text-align: right;\">\n",
       "      <th></th>\n",
       "      <th>type</th>\n",
       "      <th>message</th>\n",
       "      <th>tokens</th>\n",
       "    </tr>\n",
       "  </thead>\n",
       "  <tbody>\n",
       "    <tr>\n",
       "      <th>0</th>\n",
       "      <td>ham</td>\n",
       "      <td>Ok lar... Joking wif u oni...</td>\n",
       "      <td>[Ok, lar, Joking, wif, u, oni]</td>\n",
       "    </tr>\n",
       "    <tr>\n",
       "      <th>1</th>\n",
       "      <td>spam</td>\n",
       "      <td>Free entry in 2 a wkly comp to win FA Cup fina...</td>\n",
       "      <td>[Free, entry, in, 2, a, wkly, comp, to, win, F...</td>\n",
       "    </tr>\n",
       "    <tr>\n",
       "      <th>2</th>\n",
       "      <td>ham</td>\n",
       "      <td>U dun say so early hor... U c already then say...</td>\n",
       "      <td>[U, dun, say, so, early, hor, U, c, already, t...</td>\n",
       "    </tr>\n",
       "    <tr>\n",
       "      <th>3</th>\n",
       "      <td>ham</td>\n",
       "      <td>Nah I don't think he goes to usf, he lives aro...</td>\n",
       "      <td>[Nah, I, don, t, think, he, goes, to, usf, he,...</td>\n",
       "    </tr>\n",
       "    <tr>\n",
       "      <th>4</th>\n",
       "      <td>spam</td>\n",
       "      <td>FreeMsg Hey there darling it's been 3 week's n...</td>\n",
       "      <td>[FreeMsg, Hey, there, darling, it, s, been, 3,...</td>\n",
       "    </tr>\n",
       "    <tr>\n",
       "      <th>...</th>\n",
       "      <td>...</td>\n",
       "      <td>...</td>\n",
       "      <td>...</td>\n",
       "    </tr>\n",
       "    <tr>\n",
       "      <th>5566</th>\n",
       "      <td>spam</td>\n",
       "      <td>This is the 2nd time we have tried 2 contact u...</td>\n",
       "      <td>[This, is, the, 2nd, time, we, have, tried, 2,...</td>\n",
       "    </tr>\n",
       "    <tr>\n",
       "      <th>5567</th>\n",
       "      <td>ham</td>\n",
       "      <td>Will ü b going to esplanade fr home?</td>\n",
       "      <td>[Will, ü, b, going, to, esplanade, fr, home]</td>\n",
       "    </tr>\n",
       "    <tr>\n",
       "      <th>5568</th>\n",
       "      <td>ham</td>\n",
       "      <td>Pity, * was in mood for that. So...any other s...</td>\n",
       "      <td>[Pity, was, in, mood, for, that, So, any, othe...</td>\n",
       "    </tr>\n",
       "    <tr>\n",
       "      <th>5569</th>\n",
       "      <td>ham</td>\n",
       "      <td>The guy did some bitching but I acted like i'd...</td>\n",
       "      <td>[The, guy, did, some, bitching, but, I, acted,...</td>\n",
       "    </tr>\n",
       "    <tr>\n",
       "      <th>5570</th>\n",
       "      <td>ham</td>\n",
       "      <td>Rofl. Its true to its name</td>\n",
       "      <td>[Rofl, Its, true, to, its, name]</td>\n",
       "    </tr>\n",
       "  </tbody>\n",
       "</table>\n",
       "<p>5571 rows × 3 columns</p>\n",
       "</div>"
      ],
      "text/plain": [
       "      type                                            message  \\\n",
       "0      ham                      Ok lar... Joking wif u oni...   \n",
       "1     spam  Free entry in 2 a wkly comp to win FA Cup fina...   \n",
       "2      ham  U dun say so early hor... U c already then say...   \n",
       "3      ham  Nah I don't think he goes to usf, he lives aro...   \n",
       "4     spam  FreeMsg Hey there darling it's been 3 week's n...   \n",
       "...    ...                                                ...   \n",
       "5566  spam  This is the 2nd time we have tried 2 contact u...   \n",
       "5567   ham               Will ü b going to esplanade fr home?   \n",
       "5568   ham  Pity, * was in mood for that. So...any other s...   \n",
       "5569   ham  The guy did some bitching but I acted like i'd...   \n",
       "5570   ham                         Rofl. Its true to its name   \n",
       "\n",
       "                                                 tokens  \n",
       "0                        [Ok, lar, Joking, wif, u, oni]  \n",
       "1     [Free, entry, in, 2, a, wkly, comp, to, win, F...  \n",
       "2     [U, dun, say, so, early, hor, U, c, already, t...  \n",
       "3     [Nah, I, don, t, think, he, goes, to, usf, he,...  \n",
       "4     [FreeMsg, Hey, there, darling, it, s, been, 3,...  \n",
       "...                                                 ...  \n",
       "5566  [This, is, the, 2nd, time, we, have, tried, 2,...  \n",
       "5567       [Will, ü, b, going, to, esplanade, fr, home]  \n",
       "5568  [Pity, was, in, mood, for, that, So, any, othe...  \n",
       "5569  [The, guy, did, some, bitching, but, I, acted,...  \n",
       "5570                   [Rofl, Its, true, to, its, name]  \n",
       "\n",
       "[5571 rows x 3 columns]"
      ]
     },
     "execution_count": 4,
     "metadata": {},
     "output_type": "execute_result"
    }
   ],
   "source": [
    "# Tokenize: create words from sentences, and removes punctuation\n",
    "tokenizer = RegexpTokenizer(r'\\w+') #w+ means one or more consecutive word characters\n",
    "data['tokens'] = data.apply(lambda x: tokenizer.tokenize(x['message']), axis = 1)\n",
    "data"
   ]
  },
  {
   "cell_type": "markdown",
   "id": "a508d4df",
   "metadata": {},
   "source": [
    "## 2nd step: Elimination of stop words"
   ]
  },
  {
   "cell_type": "markdown",
   "id": "9559b5ea-c2f3-4aa6-b39c-32e42f8bfa21",
   "metadata": {},
   "source": [
    "Elimination of words that normally do not add value (prepositions, conjunctions, etc.), only noise (there are exceptions, though) <BR> This is done to reduce size of our dataset (already large). \n",
    "<BR> There are many sources of stopwords in Python, for English language, Spacy has 326 words, Gensim 337, Scikit-learn 318, NLTK library, 179. \n",
    "<BR> More or less is not better in itself, you need to read them and assess whether you want to include or remove some (easy)"
   ]
  },
  {
   "cell_type": "code",
   "execution_count": 5,
   "id": "5f3b9053",
   "metadata": {},
   "outputs": [
    {
     "name": "stdout",
     "output_type": "stream",
     "text": [
      "frozenset({'mostly', 'could', 'with', 'hereafter', 'further', 'be', 'sincere', 'such', 'formerly', 'either', 'mine', 'sixty', 'why', 'whether', 'since', 'anywhere', 'mill', 'must', 'have', 'cry', 'nothing', 'beyond', 'empty', 'twelve', 'give', 'up', 'not', 'here', 'becomes', 'onto', 'third', 'had', 'also', 'beforehand', 'yourselves', 'cant', 'un', 'from', 'around', 'am', 'other', 'in', 'among', 'these', 'toward', 'elsewhere', 'thence', 'behind', 'each', 'being', 'per', 'always', 'next', 'several', 'eg', 'ever', 'it', 'someone', 'again', 'however', 'own', 'thru', 'back', 'because', 'latterly', 'seemed', 'into', 'hence', 'who', 'they', 'four', 'many', 'while', 'whose', 'to', 'front', 'therefore', 'she', 'throughout', 'become', 'will', 'an', 'due', 'anyhow', 'nobody', 'move', 'bill', 'made', 'towards', 'their', 'before', 'bottom', 'at', 'another', 'over', 'couldnt', 'full', 'almost', 'part', 'hers', 'across', 'whatever', 'fill', 'between', 'nevertheless', 'same', 'can', 'ours', 'those', 'only', 'that', 'no', 'top', 'yourself', 'six', 'three', 'was', 'may', 'how', 'everywhere', 'perhaps', 'thereby', 'whereupon', 'through', 'do', 'hereupon', 'less', 'still', 'ourselves', 'the', 'get', 'both', 'seems', 'by', 'enough', 'which', 'me', 'too', 'anything', 'somehow', 'cannot', 'one', 'against', 'him', 'found', 'yet', 'see', 'namely', 'ltd', 'moreover', 'out', 'were', 'detail', 'hereby', 'wherein', 'us', 'whereafter', 'few', 'call', 'afterwards', 'fifteen', 'every', 'none', 'itself', 'together', 'you', 'twenty', 'if', 'where', 'besides', 'above', 'noone', 'when', 'off', 'indeed', 'them', 'whereby', 'somewhere', 'five', 'fire', 'alone', 'myself', 'show', 'therein', 'go', 'sometime', 'thereafter', 'so', 'he', 'some', 'became', 'describe', 'first', 'fifty', 'as', 'keep', 'nowhere', 'under', 'are', 'con', 'most', 'rather', 'about', 'its', 'our', 'below', 'last', 'serious', 'never', 'system', 'well', 'former', 'than', 'would', 'wherever', 'side', 'anyway', 'thus', 'your', 'all', 'whenever', 'along', 'forty', 'done', 'neither', 'is', 'whom', 'inc', 'two', 'everyone', 'my', 'has', 'everything', 'until', 'interest', 'hasnt', 'then', 'without', 'ten', 'except', 'find', 'now', 'etc', 'nor', 'might', 'often', 'seem', 'themselves', 'we', 'name', 'on', 'else', 'down', 'de', 'her', 'put', 'thick', 'something', 'any', 'during', 'anyone', 'herein', 'beside', 'very', 'whither', 'amoungst', 'amount', 'what', 'via', 'and', 'this', 'more', 'least', 'thin', 'his', 'himself', 'seeming', 'for', 'nine', 'whence', 'although', 'thereupon', 'whereas', 'whoever', 'otherwise', 'whole', 'eight', 're', 'amongst', 'there', 'please', 'within', 'already', 'upon', 'or', 'even', 'after', 'meanwhile', 'ie', 'though', 'sometimes', 'yours', 'much', 'others', 'should', 'but', 'a', 'eleven', 'co', 'take', 'once', 'becoming', 'of', 'i', 'hundred', 'herself', 'latter', 'been'})\n"
     ]
    }
   ],
   "source": [
    "# Sklearn\n",
    "from sklearn.feature_extraction import text\n",
    "print(text.ENGLISH_STOP_WORDS)"
   ]
  },
  {
   "cell_type": "code",
   "execution_count": 6,
   "id": "0a495b69",
   "metadata": {},
   "outputs": [
    {
     "name": "stdout",
     "output_type": "stream",
     "text": [
      "['i', 'me', 'my', 'myself', 'we', 'our', 'ours', 'ourselves', 'you', \"you're\", \"you've\", \"you'll\", \"you'd\", 'your', 'yours', 'yourself', 'yourselves', 'he', 'him', 'his', 'himself', 'she', \"she's\", 'her', 'hers', 'herself', 'it', \"it's\", 'its', 'itself', 'they', 'them', 'their', 'theirs', 'themselves', 'what', 'which', 'who', 'whom', 'this', 'that', \"that'll\", 'these', 'those', 'am', 'is', 'are', 'was', 'were', 'be', 'been', 'being', 'have', 'has', 'had', 'having', 'do', 'does', 'did', 'doing', 'a', 'an', 'the', 'and', 'but', 'if', 'or', 'because', 'as', 'until', 'while', 'of', 'at', 'by', 'for', 'with', 'about', 'against', 'between', 'into', 'through', 'during', 'before', 'after', 'above', 'below', 'to', 'from', 'up', 'down', 'in', 'out', 'on', 'off', 'over', 'under', 'again', 'further', 'then', 'once', 'here', 'there', 'when', 'where', 'why', 'how', 'all', 'any', 'both', 'each', 'few', 'more', 'most', 'other', 'some', 'such', 'no', 'nor', 'not', 'only', 'own', 'same', 'so', 'than', 'too', 'very', 's', 't', 'can', 'will', 'just', 'don', \"don't\", 'should', \"should've\", 'now', 'd', 'll', 'm', 'o', 're', 've', 'y', 'ain', 'aren', \"aren't\", 'couldn', \"couldn't\", 'didn', \"didn't\", 'doesn', \"doesn't\", 'hadn', \"hadn't\", 'hasn', \"hasn't\", 'haven', \"haven't\", 'isn', \"isn't\", 'ma', 'mightn', \"mightn't\", 'mustn', \"mustn't\", 'needn', \"needn't\", 'shan', \"shan't\", 'shouldn', \"shouldn't\", 'wasn', \"wasn't\", 'weren', \"weren't\", 'won', \"won't\", 'wouldn', \"wouldn't\"]\n"
     ]
    }
   ],
   "source": [
    "# nltk\n",
    "from nltk.corpus import stopwords\n",
    "stop=stopwords.words('english')\n",
    "print(stop)"
   ]
  },
  {
   "cell_type": "markdown",
   "id": "6c0df5b6-4b43-4940-865f-2fdbd5988a09",
   "metadata": {},
   "source": [
    "We will be using the stopwords in nltk library\n",
    "- need to decide which list fits the requirements better\n",
    "- sometimes disagree and build own list if needed"
   ]
  },
  {
   "cell_type": "code",
   "execution_count": 7,
   "id": "dc9d03f5",
   "metadata": {},
   "outputs": [
    {
     "data": {
      "text/html": [
       "<div>\n",
       "<style scoped>\n",
       "    .dataframe tbody tr th:only-of-type {\n",
       "        vertical-align: middle;\n",
       "    }\n",
       "\n",
       "    .dataframe tbody tr th {\n",
       "        vertical-align: top;\n",
       "    }\n",
       "\n",
       "    .dataframe thead th {\n",
       "        text-align: right;\n",
       "    }\n",
       "</style>\n",
       "<table border=\"1\" class=\"dataframe\">\n",
       "  <thead>\n",
       "    <tr style=\"text-align: right;\">\n",
       "      <th></th>\n",
       "      <th>type</th>\n",
       "      <th>message</th>\n",
       "      <th>tokens</th>\n",
       "    </tr>\n",
       "  </thead>\n",
       "  <tbody>\n",
       "    <tr>\n",
       "      <th>0</th>\n",
       "      <td>ham</td>\n",
       "      <td>Ok lar... Joking wif u oni...</td>\n",
       "      <td>[Ok, lar, Joking, wif, u, oni]</td>\n",
       "    </tr>\n",
       "    <tr>\n",
       "      <th>1</th>\n",
       "      <td>spam</td>\n",
       "      <td>Free entry in 2 a wkly comp to win FA Cup fina...</td>\n",
       "      <td>[Free, entry, 2, wkly, comp, win, FA, Cup, fin...</td>\n",
       "    </tr>\n",
       "    <tr>\n",
       "      <th>2</th>\n",
       "      <td>ham</td>\n",
       "      <td>U dun say so early hor... U c already then say...</td>\n",
       "      <td>[U, dun, say, early, hor, U, c, already, say]</td>\n",
       "    </tr>\n",
       "    <tr>\n",
       "      <th>3</th>\n",
       "      <td>ham</td>\n",
       "      <td>Nah I don't think he goes to usf, he lives aro...</td>\n",
       "      <td>[Nah, I, think, goes, usf, lives, around, though]</td>\n",
       "    </tr>\n",
       "    <tr>\n",
       "      <th>4</th>\n",
       "      <td>spam</td>\n",
       "      <td>FreeMsg Hey there darling it's been 3 week's n...</td>\n",
       "      <td>[FreeMsg, Hey, darling, 3, week, word, back, I...</td>\n",
       "    </tr>\n",
       "    <tr>\n",
       "      <th>...</th>\n",
       "      <td>...</td>\n",
       "      <td>...</td>\n",
       "      <td>...</td>\n",
       "    </tr>\n",
       "    <tr>\n",
       "      <th>5566</th>\n",
       "      <td>spam</td>\n",
       "      <td>This is the 2nd time we have tried 2 contact u...</td>\n",
       "      <td>[This, 2nd, time, tried, 2, contact, u, U, 750...</td>\n",
       "    </tr>\n",
       "    <tr>\n",
       "      <th>5567</th>\n",
       "      <td>ham</td>\n",
       "      <td>Will ü b going to esplanade fr home?</td>\n",
       "      <td>[Will, ü, b, going, esplanade, fr, home]</td>\n",
       "    </tr>\n",
       "    <tr>\n",
       "      <th>5568</th>\n",
       "      <td>ham</td>\n",
       "      <td>Pity, * was in mood for that. So...any other s...</td>\n",
       "      <td>[Pity, mood, So, suggestions]</td>\n",
       "    </tr>\n",
       "    <tr>\n",
       "      <th>5569</th>\n",
       "      <td>ham</td>\n",
       "      <td>The guy did some bitching but I acted like i'd...</td>\n",
       "      <td>[The, guy, bitching, I, acted, like, intereste...</td>\n",
       "    </tr>\n",
       "    <tr>\n",
       "      <th>5570</th>\n",
       "      <td>ham</td>\n",
       "      <td>Rofl. Its true to its name</td>\n",
       "      <td>[Rofl, Its, true, name]</td>\n",
       "    </tr>\n",
       "  </tbody>\n",
       "</table>\n",
       "<p>5571 rows × 3 columns</p>\n",
       "</div>"
      ],
      "text/plain": [
       "      type                                            message  \\\n",
       "0      ham                      Ok lar... Joking wif u oni...   \n",
       "1     spam  Free entry in 2 a wkly comp to win FA Cup fina...   \n",
       "2      ham  U dun say so early hor... U c already then say...   \n",
       "3      ham  Nah I don't think he goes to usf, he lives aro...   \n",
       "4     spam  FreeMsg Hey there darling it's been 3 week's n...   \n",
       "...    ...                                                ...   \n",
       "5566  spam  This is the 2nd time we have tried 2 contact u...   \n",
       "5567   ham               Will ü b going to esplanade fr home?   \n",
       "5568   ham  Pity, * was in mood for that. So...any other s...   \n",
       "5569   ham  The guy did some bitching but I acted like i'd...   \n",
       "5570   ham                         Rofl. Its true to its name   \n",
       "\n",
       "                                                 tokens  \n",
       "0                        [Ok, lar, Joking, wif, u, oni]  \n",
       "1     [Free, entry, 2, wkly, comp, win, FA, Cup, fin...  \n",
       "2         [U, dun, say, early, hor, U, c, already, say]  \n",
       "3     [Nah, I, think, goes, usf, lives, around, though]  \n",
       "4     [FreeMsg, Hey, darling, 3, week, word, back, I...  \n",
       "...                                                 ...  \n",
       "5566  [This, 2nd, time, tried, 2, contact, u, U, 750...  \n",
       "5567           [Will, ü, b, going, esplanade, fr, home]  \n",
       "5568                      [Pity, mood, So, suggestions]  \n",
       "5569  [The, guy, bitching, I, acted, like, intereste...  \n",
       "5570                            [Rofl, Its, true, name]  \n",
       "\n",
       "[5571 rows x 3 columns]"
      ]
     },
     "execution_count": 7,
     "metadata": {},
     "output_type": "execute_result"
    }
   ],
   "source": [
    "# Remove stop words\n",
    "# using nltk - shorted list of stopwords, keeping if not in stopwords\n",
    "data['tokens'] = data['tokens'].apply(lambda x: [item for item in x if item not in stop])\n",
    "data"
   ]
  },
  {
   "cell_type": "markdown",
   "id": "fb0ceab0",
   "metadata": {},
   "source": [
    "## 3rd step: Apply stemming and lemmatization"
   ]
  },
  {
   "cell_type": "markdown",
   "id": "05c461a3-e26e-4799-888e-3a5baf55c7dd",
   "metadata": {},
   "source": [
    "**Stemming**: Stemming is a process of reducing inflected words to their word stem, base or root form. This is done by removing affixes, which are word parts that are added to the root to change its meaning or grammatical function. For example, the word \"running\" can be stemmed to \"run\" by removing the suffix \"-ing\".\n",
    "\n",
    "**Lemmatization**: It is more used in NLP projects in English. It involves taking into account the morphology and grammar of the words, it would convert all the words to their base, in such a way that they come to mean the same thing. Example: For the words \"am\", \"are\", \"is\", stemming would not work, therefore they would all be lemmatised to \"be\". \n",
    "\n",
    "#####  Want to apply both because stemming can cut the word down to its stem, and lemmatization can infer some meaning."
   ]
  },
  {
   "cell_type": "markdown",
   "id": "100dd891-e916-40e8-911d-1f0924c71734",
   "metadata": {},
   "source": [
    "First, stemming"
   ]
  },
  {
   "cell_type": "code",
   "execution_count": 8,
   "id": "fe38b915",
   "metadata": {},
   "outputs": [],
   "source": [
    "# Apply Porter stemming\n",
    "stemmer = PorterStemmer()\n",
    "data['tokens'] = data['tokens'].apply(lambda x: [stemmer.stem(item) for item in x])"
   ]
  },
  {
   "cell_type": "code",
   "execution_count": 9,
   "id": "c9d8bbb2-b39d-46d9-a04c-6da4319acd41",
   "metadata": {},
   "outputs": [
    {
     "data": {
      "text/html": [
       "<div>\n",
       "<style scoped>\n",
       "    .dataframe tbody tr th:only-of-type {\n",
       "        vertical-align: middle;\n",
       "    }\n",
       "\n",
       "    .dataframe tbody tr th {\n",
       "        vertical-align: top;\n",
       "    }\n",
       "\n",
       "    .dataframe thead th {\n",
       "        text-align: right;\n",
       "    }\n",
       "</style>\n",
       "<table border=\"1\" class=\"dataframe\">\n",
       "  <thead>\n",
       "    <tr style=\"text-align: right;\">\n",
       "      <th></th>\n",
       "      <th>type</th>\n",
       "      <th>message</th>\n",
       "      <th>tokens</th>\n",
       "    </tr>\n",
       "  </thead>\n",
       "  <tbody>\n",
       "    <tr>\n",
       "      <th>0</th>\n",
       "      <td>ham</td>\n",
       "      <td>Ok lar... Joking wif u oni...</td>\n",
       "      <td>[ok, lar, joke, wif, u, oni]</td>\n",
       "    </tr>\n",
       "    <tr>\n",
       "      <th>1</th>\n",
       "      <td>spam</td>\n",
       "      <td>Free entry in 2 a wkly comp to win FA Cup fina...</td>\n",
       "      <td>[free, entri, 2, wkli, comp, win, fa, cup, fin...</td>\n",
       "    </tr>\n",
       "    <tr>\n",
       "      <th>2</th>\n",
       "      <td>ham</td>\n",
       "      <td>U dun say so early hor... U c already then say...</td>\n",
       "      <td>[u, dun, say, earli, hor, u, c, alreadi, say]</td>\n",
       "    </tr>\n",
       "    <tr>\n",
       "      <th>3</th>\n",
       "      <td>ham</td>\n",
       "      <td>Nah I don't think he goes to usf, he lives aro...</td>\n",
       "      <td>[nah, i, think, goe, usf, live, around, though]</td>\n",
       "    </tr>\n",
       "    <tr>\n",
       "      <th>4</th>\n",
       "      <td>spam</td>\n",
       "      <td>FreeMsg Hey there darling it's been 3 week's n...</td>\n",
       "      <td>[freemsg, hey, darl, 3, week, word, back, i, l...</td>\n",
       "    </tr>\n",
       "    <tr>\n",
       "      <th>5</th>\n",
       "      <td>ham</td>\n",
       "      <td>Even my brother is not like to speak with me. ...</td>\n",
       "      <td>[even, brother, like, speak, they, treat, like...</td>\n",
       "    </tr>\n",
       "    <tr>\n",
       "      <th>6</th>\n",
       "      <td>ham</td>\n",
       "      <td>As per your request 'Melle Melle (Oru Minnamin...</td>\n",
       "      <td>[as, per, request, mell, mell, oru, minnaminun...</td>\n",
       "    </tr>\n",
       "    <tr>\n",
       "      <th>7</th>\n",
       "      <td>spam</td>\n",
       "      <td>WINNER!! As a valued network customer you have...</td>\n",
       "      <td>[winner, as, valu, network, custom, select, re...</td>\n",
       "    </tr>\n",
       "    <tr>\n",
       "      <th>8</th>\n",
       "      <td>spam</td>\n",
       "      <td>Had your mobile 11 months or more? U R entitle...</td>\n",
       "      <td>[had, mobil, 11, month, u, r, entitl, updat, l...</td>\n",
       "    </tr>\n",
       "    <tr>\n",
       "      <th>9</th>\n",
       "      <td>ham</td>\n",
       "      <td>I'm gonna be home soon and i don't want to tal...</td>\n",
       "      <td>[i, gonna, home, soon, want, talk, stuff, anym...</td>\n",
       "    </tr>\n",
       "  </tbody>\n",
       "</table>\n",
       "</div>"
      ],
      "text/plain": [
       "   type                                            message  \\\n",
       "0   ham                      Ok lar... Joking wif u oni...   \n",
       "1  spam  Free entry in 2 a wkly comp to win FA Cup fina...   \n",
       "2   ham  U dun say so early hor... U c already then say...   \n",
       "3   ham  Nah I don't think he goes to usf, he lives aro...   \n",
       "4  spam  FreeMsg Hey there darling it's been 3 week's n...   \n",
       "5   ham  Even my brother is not like to speak with me. ...   \n",
       "6   ham  As per your request 'Melle Melle (Oru Minnamin...   \n",
       "7  spam  WINNER!! As a valued network customer you have...   \n",
       "8  spam  Had your mobile 11 months or more? U R entitle...   \n",
       "9   ham  I'm gonna be home soon and i don't want to tal...   \n",
       "\n",
       "                                              tokens  \n",
       "0                       [ok, lar, joke, wif, u, oni]  \n",
       "1  [free, entri, 2, wkli, comp, win, fa, cup, fin...  \n",
       "2      [u, dun, say, earli, hor, u, c, alreadi, say]  \n",
       "3    [nah, i, think, goe, usf, live, around, though]  \n",
       "4  [freemsg, hey, darl, 3, week, word, back, i, l...  \n",
       "5  [even, brother, like, speak, they, treat, like...  \n",
       "6  [as, per, request, mell, mell, oru, minnaminun...  \n",
       "7  [winner, as, valu, network, custom, select, re...  \n",
       "8  [had, mobil, 11, month, u, r, entitl, updat, l...  \n",
       "9  [i, gonna, home, soon, want, talk, stuff, anym...  "
      ]
     },
     "execution_count": 9,
     "metadata": {},
     "output_type": "execute_result"
    }
   ],
   "source": [
    "data.head(10)"
   ]
  },
  {
   "cell_type": "markdown",
   "id": "0e647811-3198-4e63-914f-6debd099b947",
   "metadata": {},
   "source": [
    "Now, we apply lemmatization. We download a pre-trained spacy model called en_core_web_sm, which is a NLP model for the English language. <BR>It includes information about lemmatisation, morphological analysis, grammatical tagging and other tasks related to NLP."
   ]
  },
  {
   "cell_type": "code",
   "execution_count": 10,
   "id": "66bbc6d5-57f4-428b-b5e4-feefb8a48457",
   "metadata": {},
   "outputs": [],
   "source": [
    "#!pip install spacy\n",
    "#!python -m spacy download en_core_web_sm\n",
    "\n",
    "import spacy\n",
    "nlp = spacy.load('en_core_web_sm')"
   ]
  },
  {
   "cell_type": "code",
   "execution_count": 11,
   "id": "7a1f87a3-2d30-43b0-9ec2-ebc55fbe30c6",
   "metadata": {},
   "outputs": [
    {
     "data": {
      "text/html": [
       "<div>\n",
       "<style scoped>\n",
       "    .dataframe tbody tr th:only-of-type {\n",
       "        vertical-align: middle;\n",
       "    }\n",
       "\n",
       "    .dataframe tbody tr th {\n",
       "        vertical-align: top;\n",
       "    }\n",
       "\n",
       "    .dataframe thead th {\n",
       "        text-align: right;\n",
       "    }\n",
       "</style>\n",
       "<table border=\"1\" class=\"dataframe\">\n",
       "  <thead>\n",
       "    <tr style=\"text-align: right;\">\n",
       "      <th></th>\n",
       "      <th>type</th>\n",
       "      <th>message</th>\n",
       "      <th>tokens</th>\n",
       "    </tr>\n",
       "  </thead>\n",
       "  <tbody>\n",
       "    <tr>\n",
       "      <th>0</th>\n",
       "      <td>ham</td>\n",
       "      <td>Ok lar... Joking wif u oni...</td>\n",
       "      <td>[ok, lar, joke, wif, u, oni]</td>\n",
       "    </tr>\n",
       "    <tr>\n",
       "      <th>1</th>\n",
       "      <td>spam</td>\n",
       "      <td>Free entry in 2 a wkly comp to win FA Cup fina...</td>\n",
       "      <td>[free, entri, 2, wkli, comp, win, fa, cup, fin...</td>\n",
       "    </tr>\n",
       "    <tr>\n",
       "      <th>2</th>\n",
       "      <td>ham</td>\n",
       "      <td>U dun say so early hor... U c already then say...</td>\n",
       "      <td>[u, dun, say, earli, hor, u, c, alreadi, say]</td>\n",
       "    </tr>\n",
       "    <tr>\n",
       "      <th>3</th>\n",
       "      <td>ham</td>\n",
       "      <td>Nah I don't think he goes to usf, he lives aro...</td>\n",
       "      <td>[nah, I, think, goe, usf, live, around, though]</td>\n",
       "    </tr>\n",
       "    <tr>\n",
       "      <th>4</th>\n",
       "      <td>spam</td>\n",
       "      <td>FreeMsg Hey there darling it's been 3 week's n...</td>\n",
       "      <td>[freemsg, hey, darl, 3, week, word, back, I, l...</td>\n",
       "    </tr>\n",
       "    <tr>\n",
       "      <th>...</th>\n",
       "      <td>...</td>\n",
       "      <td>...</td>\n",
       "      <td>...</td>\n",
       "    </tr>\n",
       "    <tr>\n",
       "      <th>5566</th>\n",
       "      <td>spam</td>\n",
       "      <td>This is the 2nd time we have tried 2 contact u...</td>\n",
       "      <td>[thi, 2nd, time, tri, 2, contact, u, u, 750, p...</td>\n",
       "    </tr>\n",
       "    <tr>\n",
       "      <th>5567</th>\n",
       "      <td>ham</td>\n",
       "      <td>Will ü b going to esplanade fr home?</td>\n",
       "      <td>[will, ü, b, go, esplanad, fr, home]</td>\n",
       "    </tr>\n",
       "    <tr>\n",
       "      <th>5568</th>\n",
       "      <td>ham</td>\n",
       "      <td>Pity, * was in mood for that. So...any other s...</td>\n",
       "      <td>[piti, mood, so, suggest]</td>\n",
       "    </tr>\n",
       "    <tr>\n",
       "      <th>5569</th>\n",
       "      <td>ham</td>\n",
       "      <td>The guy did some bitching but I acted like i'd...</td>\n",
       "      <td>[the, guy, bitch, I, act, like, interest, buy,...</td>\n",
       "    </tr>\n",
       "    <tr>\n",
       "      <th>5570</th>\n",
       "      <td>ham</td>\n",
       "      <td>Rofl. Its true to its name</td>\n",
       "      <td>[rofl, it, true, name]</td>\n",
       "    </tr>\n",
       "  </tbody>\n",
       "</table>\n",
       "<p>5571 rows × 3 columns</p>\n",
       "</div>"
      ],
      "text/plain": [
       "      type                                            message  \\\n",
       "0      ham                      Ok lar... Joking wif u oni...   \n",
       "1     spam  Free entry in 2 a wkly comp to win FA Cup fina...   \n",
       "2      ham  U dun say so early hor... U c already then say...   \n",
       "3      ham  Nah I don't think he goes to usf, he lives aro...   \n",
       "4     spam  FreeMsg Hey there darling it's been 3 week's n...   \n",
       "...    ...                                                ...   \n",
       "5566  spam  This is the 2nd time we have tried 2 contact u...   \n",
       "5567   ham               Will ü b going to esplanade fr home?   \n",
       "5568   ham  Pity, * was in mood for that. So...any other s...   \n",
       "5569   ham  The guy did some bitching but I acted like i'd...   \n",
       "5570   ham                         Rofl. Its true to its name   \n",
       "\n",
       "                                                 tokens  \n",
       "0                          [ok, lar, joke, wif, u, oni]  \n",
       "1     [free, entri, 2, wkli, comp, win, fa, cup, fin...  \n",
       "2         [u, dun, say, earli, hor, u, c, alreadi, say]  \n",
       "3       [nah, I, think, goe, usf, live, around, though]  \n",
       "4     [freemsg, hey, darl, 3, week, word, back, I, l...  \n",
       "...                                                 ...  \n",
       "5566  [thi, 2nd, time, tri, 2, contact, u, u, 750, p...  \n",
       "5567               [will, ü, b, go, esplanad, fr, home]  \n",
       "5568                          [piti, mood, so, suggest]  \n",
       "5569  [the, guy, bitch, I, act, like, interest, buy,...  \n",
       "5570                             [rofl, it, true, name]  \n",
       "\n",
       "[5571 rows x 3 columns]"
      ]
     },
     "execution_count": 11,
     "metadata": {},
     "output_type": "execute_result"
    }
   ],
   "source": [
    "def lemmatize_tokens(tokens):\n",
    "    doc = nlp(\" \".join(tokens))\n",
    "    return [token.lemma_ for token in doc]\n",
    "\n",
    "# Aplicar la lematización a la columna 'tokens'\n",
    "data['tokens'] = data['tokens'].apply(lemmatize_tokens)\n",
    "data"
   ]
  },
  {
   "cell_type": "markdown",
   "id": "37ee5f86-97c3-4e3b-b956-538054083d5b",
   "metadata": {},
   "source": [
    "And we can optionally export cleaned data before applying the model"
   ]
  },
  {
   "cell_type": "code",
   "execution_count": 12,
   "id": "8d51d0b0-a2a3-4614-86a3-9df7bdc3ef1c",
   "metadata": {},
   "outputs": [],
   "source": [
    "data.to_excel(\"cleaned.xlsx\")"
   ]
  },
  {
   "cell_type": "markdown",
   "id": "ccabd271-8a15-44aa-b7f6-3e45b45904b8",
   "metadata": {},
   "source": [
    "## Naive Bayes model"
   ]
  },
  {
   "cell_type": "markdown",
   "id": "03bd1a7b",
   "metadata": {},
   "source": [
    "Naive Bayes model admits two types of source data:<BR>\n",
    "\n",
    "**1. A Matrix** that shows, for each document, either how many times each of the words in all the documents has appeared or how important is the word in each document compared to the whole source of data. We will run an example first with a Matrix showing frequencies and the 2nd with the more complex one. <BR>\n",
    "**2. An array of appearances**. It is similar to a TF matrix, but in this case, instead of indicating the number of occurrences, it simply indicates whether or not that word appeared.<BR>\n",
    "<BR>If we have plenty of data, normally a Matrix is preferred"
   ]
  },
  {
   "cell_type": "markdown",
   "id": "b4f12c21",
   "metadata": {},
   "source": [
    "First, we are detokenizing the rows, that is, joining back the words, once they have been cleaned"
   ]
  },
  {
   "cell_type": "code",
   "execution_count": 13,
   "id": "b40f2e6b",
   "metadata": {},
   "outputs": [
    {
     "data": {
      "text/html": [
       "<div>\n",
       "<style scoped>\n",
       "    .dataframe tbody tr th:only-of-type {\n",
       "        vertical-align: middle;\n",
       "    }\n",
       "\n",
       "    .dataframe tbody tr th {\n",
       "        vertical-align: top;\n",
       "    }\n",
       "\n",
       "    .dataframe thead th {\n",
       "        text-align: right;\n",
       "    }\n",
       "</style>\n",
       "<table border=\"1\" class=\"dataframe\">\n",
       "  <thead>\n",
       "    <tr style=\"text-align: right;\">\n",
       "      <th></th>\n",
       "      <th>type</th>\n",
       "      <th>message</th>\n",
       "      <th>tokens</th>\n",
       "    </tr>\n",
       "  </thead>\n",
       "  <tbody>\n",
       "    <tr>\n",
       "      <th>0</th>\n",
       "      <td>ham</td>\n",
       "      <td>Ok lar... Joking wif u oni...</td>\n",
       "      <td>ok lar joke wif u oni</td>\n",
       "    </tr>\n",
       "    <tr>\n",
       "      <th>1</th>\n",
       "      <td>spam</td>\n",
       "      <td>Free entry in 2 a wkly comp to win FA Cup fina...</td>\n",
       "      <td>free entri 2 wkli comp win fa cup final tkt 21...</td>\n",
       "    </tr>\n",
       "    <tr>\n",
       "      <th>2</th>\n",
       "      <td>ham</td>\n",
       "      <td>U dun say so early hor... U c already then say...</td>\n",
       "      <td>u dun say earli hor u c alreadi say</td>\n",
       "    </tr>\n",
       "    <tr>\n",
       "      <th>3</th>\n",
       "      <td>ham</td>\n",
       "      <td>Nah I don't think he goes to usf, he lives aro...</td>\n",
       "      <td>nah I think goe usf live around though</td>\n",
       "    </tr>\n",
       "    <tr>\n",
       "      <th>4</th>\n",
       "      <td>spam</td>\n",
       "      <td>FreeMsg Hey there darling it's been 3 week's n...</td>\n",
       "      <td>freemsg hey darl 3 week word back I like fun s...</td>\n",
       "    </tr>\n",
       "    <tr>\n",
       "      <th>...</th>\n",
       "      <td>...</td>\n",
       "      <td>...</td>\n",
       "      <td>...</td>\n",
       "    </tr>\n",
       "    <tr>\n",
       "      <th>5566</th>\n",
       "      <td>spam</td>\n",
       "      <td>This is the 2nd time we have tried 2 contact u...</td>\n",
       "      <td>thi 2nd time tri 2 contact u u 750 pound prize...</td>\n",
       "    </tr>\n",
       "    <tr>\n",
       "      <th>5567</th>\n",
       "      <td>ham</td>\n",
       "      <td>Will ü b going to esplanade fr home?</td>\n",
       "      <td>will ü b go esplanad fr home</td>\n",
       "    </tr>\n",
       "    <tr>\n",
       "      <th>5568</th>\n",
       "      <td>ham</td>\n",
       "      <td>Pity, * was in mood for that. So...any other s...</td>\n",
       "      <td>piti mood so suggest</td>\n",
       "    </tr>\n",
       "    <tr>\n",
       "      <th>5569</th>\n",
       "      <td>ham</td>\n",
       "      <td>The guy did some bitching but I acted like i'd...</td>\n",
       "      <td>the guy bitch I act like interest buy someth e...</td>\n",
       "    </tr>\n",
       "    <tr>\n",
       "      <th>5570</th>\n",
       "      <td>ham</td>\n",
       "      <td>Rofl. Its true to its name</td>\n",
       "      <td>rofl it true name</td>\n",
       "    </tr>\n",
       "  </tbody>\n",
       "</table>\n",
       "<p>5571 rows × 3 columns</p>\n",
       "</div>"
      ],
      "text/plain": [
       "      type                                            message  \\\n",
       "0      ham                      Ok lar... Joking wif u oni...   \n",
       "1     spam  Free entry in 2 a wkly comp to win FA Cup fina...   \n",
       "2      ham  U dun say so early hor... U c already then say...   \n",
       "3      ham  Nah I don't think he goes to usf, he lives aro...   \n",
       "4     spam  FreeMsg Hey there darling it's been 3 week's n...   \n",
       "...    ...                                                ...   \n",
       "5566  spam  This is the 2nd time we have tried 2 contact u...   \n",
       "5567   ham               Will ü b going to esplanade fr home?   \n",
       "5568   ham  Pity, * was in mood for that. So...any other s...   \n",
       "5569   ham  The guy did some bitching but I acted like i'd...   \n",
       "5570   ham                         Rofl. Its true to its name   \n",
       "\n",
       "                                                 tokens  \n",
       "0                                 ok lar joke wif u oni  \n",
       "1     free entri 2 wkli comp win fa cup final tkt 21...  \n",
       "2                   u dun say earli hor u c alreadi say  \n",
       "3                nah I think goe usf live around though  \n",
       "4     freemsg hey darl 3 week word back I like fun s...  \n",
       "...                                                 ...  \n",
       "5566  thi 2nd time tri 2 contact u u 750 pound prize...  \n",
       "5567                       will ü b go esplanad fr home  \n",
       "5568                               piti mood so suggest  \n",
       "5569  the guy bitch I act like interest buy someth e...  \n",
       "5570                                  rofl it true name  \n",
       "\n",
       "[5571 rows x 3 columns]"
      ]
     },
     "execution_count": 13,
     "metadata": {},
     "output_type": "execute_result"
    }
   ],
   "source": [
    "# Unify the strings once again\n",
    "data['tokens'] = data['tokens'].apply(lambda x: ' '.join(x))\n",
    "data"
   ]
  },
  {
   "cell_type": "code",
   "execution_count": 14,
   "id": "59061ba6",
   "metadata": {},
   "outputs": [],
   "source": [
    "data.to_excel(\"data.xlsx\")"
   ]
  },
  {
   "cell_type": "markdown",
   "id": "38c3ab3e",
   "metadata": {},
   "source": [
    "Now we are splitting our data as always"
   ]
  },
  {
   "cell_type": "code",
   "execution_count": 15,
   "id": "e488317d",
   "metadata": {},
   "outputs": [],
   "source": [
    "from sklearn.model_selection import train_test_split\n",
    "from sklearn.feature_extraction.text import CountVectorizer\n",
    "\n",
    "# Make split\n",
    "x_train, x_test, y_train, y_test = train_test_split(\n",
    "    data['tokens'], \n",
    "    data['type'], \n",
    "    test_size= 0.2\n",
    "    )"
   ]
  },
  {
   "cell_type": "code",
   "execution_count": 16,
   "id": "681c3b34",
   "metadata": {},
   "outputs": [
    {
     "name": "stdout",
     "output_type": "stream",
     "text": [
      "Training data set size:  4456\n",
      "Testing data set size:  1115\n"
     ]
    }
   ],
   "source": [
    "print(\"Training data set size: \", len(x_train))\n",
    "print(\"Testing data set size: \", len(x_test))"
   ]
  },
  {
   "cell_type": "markdown",
   "id": "e9ad2d69",
   "metadata": {},
   "source": [
    "And here is where we create the matrix. The CountVectorizer convert a collection of text documents into a matrix of term or word counts. <BR>Each document is represented as a vector where each element of the vector corresponds to the frequency count of a specific word in the document."
   ]
  },
  {
   "cell_type": "code",
   "execution_count": 17,
   "id": "aa9c5943",
   "metadata": {},
   "outputs": [
    {
     "data": {
      "text/plain": [
       "<1115x6432 sparse matrix of type '<class 'numpy.int64'>'\n",
       "\twith 9786 stored elements in Compressed Sparse Row format>"
      ]
     },
     "execution_count": 17,
     "metadata": {},
     "output_type": "execute_result"
    }
   ],
   "source": [
    "# Create vectorizer\n",
    "vectorizer = CountVectorizer(\n",
    "    strip_accents = 'ascii', \n",
    "    lowercase = True\n",
    "    )\n",
    "\n",
    "# Fit vectorizer & transform it\n",
    "vectorizer_fit = vectorizer.fit(x_train)\n",
    "x_train_transformed = vectorizer_fit.transform(x_train)\n",
    "x_test_transformed = vectorizer_fit.transform(x_test)\n",
    "\n",
    "x_test_transformed\n",
    "# sparse matrix because many empty cells if remembering the matrix\n",
    "# most powerful way to fit a multinomial naive bayes model"
   ]
  },
  {
   "cell_type": "markdown",
   "id": "0dc71599-97a2-4b0f-bf27-be54ffe41f95",
   "metadata": {},
   "source": [
    "### Multinomial NB fit"
   ]
  },
  {
   "cell_type": "markdown",
   "id": "a19f099b",
   "metadata": {},
   "source": [
    "Now we build the Naive Bayes model and train it. \n",
    "<BR> There are two NB models in sklearn we can use: <BR>\n",
    "- Gaussian. It is useful when we have metric features\n",
    "- Multinomial. Appropriated for text classification where variables represent frequencies"
   ]
  },
  {
   "cell_type": "markdown",
   "id": "f139af65-7441-44d2-9e9c-68a359f6220e",
   "metadata": {},
   "source": [
    "We will be applying Multinomial model"
   ]
  },
  {
   "cell_type": "code",
   "execution_count": 18,
   "id": "2846dbe1",
   "metadata": {},
   "outputs": [],
   "source": [
    "# Build the model\n",
    "from sklearn.naive_bayes import MultinomialNB\n",
    "\n",
    "# Train the model\n",
    "naive_bayes = MultinomialNB()\n",
    "naive_bayes_fit = naive_bayes.fit(x_train_transformed, y_train)"
   ]
  },
  {
   "cell_type": "markdown",
   "id": "e6f12113",
   "metadata": {},
   "source": [
    "And we make predictions"
   ]
  },
  {
   "cell_type": "code",
   "execution_count": 19,
   "id": "0d41a3bf",
   "metadata": {},
   "outputs": [],
   "source": [
    "from sklearn.metrics import confusion_matrix, balanced_accuracy_score\n",
    "\n",
    "# Make predictions\n",
    "train_predict = naive_bayes_fit.predict(x_train_transformed)\n",
    "test_predict = naive_bayes_fit.predict(x_test_transformed)\n",
    "\n",
    "def get_scores(y_real, predict):\n",
    "  ba_train = balanced_accuracy_score(y_real, predict)\n",
    "  return ba_train\n",
    "\n",
    "train_scores = get_scores(y_train, train_predict)\n",
    "test_scores = get_scores(y_test, test_predict)"
   ]
  },
  {
   "cell_type": "markdown",
   "id": "600829ba",
   "metadata": {},
   "source": [
    "This is the result"
   ]
  },
  {
   "cell_type": "code",
   "execution_count": 20,
   "id": "71a12d16",
   "metadata": {},
   "outputs": [
    {
     "name": "stdout",
     "output_type": "stream",
     "text": [
      "## Train Accuracy\n",
      "Accuracy of Train set = 98.23%\n",
      "\n",
      "## Test Accuracy\n",
      "Accuracy of Test set = 96.19%\n"
     ]
    }
   ],
   "source": [
    "print(\"## Train Accuracy\")\n",
    "print(\"Accuracy of Train set = {0:.2%}\".format(train_scores))\n",
    "print(\"\\n## Test Accuracy\")\n",
    "print(\"Accuracy of Test set = {0:.2%}\".format(test_scores))"
   ]
  },
  {
   "cell_type": "markdown",
   "id": "2f03e905",
   "metadata": {},
   "source": [
    "And the confusion matrix"
   ]
  },
  {
   "cell_type": "code",
   "execution_count": 21,
   "id": "b937c693",
   "metadata": {},
   "outputs": [
    {
     "data": {
      "image/png": "[encoded data removed]",
      "text/plain": [
       "<Figure size 640x480 with 1 Axes>"
      ]
     },
     "metadata": {},
     "output_type": "display_data"
    }
   ],
   "source": [
    "from sklearn.metrics import confusion_matrix\n",
    "import seaborn as sns\n",
    "import matplotlib.pyplot as plt\n",
    "\n",
    "mat = confusion_matrix(y_test, test_predict)\n",
    "sns.heatmap(mat.T, square=True, annot=True, fmt='d', cbar=False,\n",
    "            xticklabels=naive_bayes_fit.classes_, yticklabels=naive_bayes_fit.classes_)\n",
    "plt.xlabel('true label')\n",
    "plt.ylabel('predicted label');"
   ]
  }
 ],
 "metadata": {
  "kernelspec": {
   "display_name": "Python 3 (ipykernel)",
   "language": "python",
   "name": "python3"
  },
  "language_info": {
   "codemirror_mode": {
    "name": "ipython",
    "version": 3
   },
   "file_extension": ".py",
   "mimetype": "text/x-python",
   "name": "python",
   "nbconvert_exporter": "python",
   "pygments_lexer": "ipython3",
   "version": "3.11.4"
  }
 },
 "nbformat": 4,
 "nbformat_minor": 5
}
